{
  "nbformat": 4,
  "nbformat_minor": 0,
  "metadata": {
    "colab": {
      "provenance": []
    },
    "kernelspec": {
      "name": "python3",
      "display_name": "Python 3"
    },
    "language_info": {
      "name": "python"
    }
  },
  "cells": [
    {
      "cell_type": "code",
      "execution_count": 1,
      "metadata": {
        "colab": {
          "base_uri": "https://localhost:8080/"
        },
        "id": "Bx056Ju4gZiq",
        "outputId": "1934c99d-f6cb-415b-8800-56b87b7bdf4e"
      },
      "outputs": [
        {
          "output_type": "stream",
          "name": "stdout",
          "text": [
            "10\n"
          ]
        }
      ],
      "source": [
        "def sum_two_numbers(x, y):\n",
        "    return x + y\n",
        "# Random example\n",
        "x = 9\n",
        "y = 1\n",
        "result = sum_two_numbers(x, y)\n",
        "print(result)"
      ]
    },
    {
      "cell_type": "code",
      "source": [
        "def sum_three_numbers(x, y, z):\n",
        "    return x + y + z\n",
        "# Random example\n",
        "x = 10\n",
        "y = 20\n",
        "z = 30\n",
        "result = sum_three_numbers(x, y, z)\n",
        "print(result)"
      ],
      "metadata": {
        "colab": {
          "base_uri": "https://localhost:8080/"
        },
        "id": "3o47vr41gduy",
        "outputId": "ebacacf1-18a7-4153-a011-af54a0fa56dc"
      },
      "execution_count": 2,
      "outputs": [
        {
          "output_type": "stream",
          "name": "stdout",
          "text": [
            "60\n"
          ]
        }
      ]
    },
    {
      "cell_type": "code",
      "source": [
        "def find_max(numbers):\n",
        "    max_num = numbers[0]\n",
        "    for num in numbers:\n",
        "        if num > max_num:\n",
        "            max_num = num\n",
        "    return max_num\n",
        "\n",
        "# Test the function with an example\n",
        "numbers = [3, 5, 1, 6, 99, 6]\n",
        "result = find_max(numbers)\n",
        "print(result)"
      ],
      "metadata": {
        "colab": {
          "base_uri": "https://localhost:8080/"
        },
        "id": "Yi1OuC08gim8",
        "outputId": "57355247-1bf8-46f8-8797-b99bf9f22647"
      },
      "execution_count": 5,
      "outputs": [
        {
          "output_type": "stream",
          "name": "stdout",
          "text": [
            "99\n"
          ]
        }
      ]
    },
    {
      "cell_type": "code",
      "source": [
        "def find_min(numbers):\n",
        "    min_num = numbers[0]\n",
        "    for num in numbers:\n",
        "        if num < min_num:\n",
        "            min_num = num\n",
        "    return min_num\n",
        "\n",
        "# Test the function with an example\n",
        "numbers = [3, 5, 1, 6, 99, 6]\n",
        "result = find_min(numbers)\n",
        "print(result)"
      ],
      "metadata": {
        "colab": {
          "base_uri": "https://localhost:8080/"
        },
        "id": "7FXEWXwXgmkW",
        "outputId": "c7bd5663-4e27-4b43-e9e1-db3090acd8bf"
      },
      "execution_count": 6,
      "outputs": [
        {
          "output_type": "stream",
          "name": "stdout",
          "text": [
            "1\n"
          ]
        }
      ]
    }
  ]
}